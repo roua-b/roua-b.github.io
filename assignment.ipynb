{
  "cells": [
    {
      "cell_type": "markdown",
      "metadata": {
        "id": "W1pXnXPycBcv"
      },
      "source": [
        "# Test assignment\n",
        "\n",
        "This is a test for the assignment pipeline. Below, you find two simple exercises. Try to finish them, commit your submission notebook, and check out the test result!\n",
        "\n",
        "To check out instructions on how to complete your assignment, you can check out the course info repo:\n",
        "https://github.com/MScNE-LSMLSDA/course-info"
      ]
    },
    {
      "cell_type": "markdown",
      "metadata": {
        "id": "aH8LBgERcBcy"
      },
      "source": [
        "## Exercise 0\n",
        "Write a function `hello_world()` that takes no input and return the string `\"Hello, world!\"`"
      ]
    },
    {
      "cell_type": "code",
      "execution_count": 16,
      "metadata": {
        "id": "WENOz00DcBcz"
      },
      "outputs": [],
      "source": [
        "def hello_world():\n",
        "    return (\"Hello, world!\")"
      ]
    },
    {
      "cell_type": "markdown",
      "metadata": {
        "id": "jIw5WBDucBcz"
      },
      "source": [
        "## Exercise 1\n",
        "\n",
        "Write a function `factorial(n)` that takes as input an integer `n` and returns its factorial.\n",
        "\n",
        "Test cases:\n",
        "```\n",
        "In: 0\n",
        "Return: 1\n",
        "\n",
        "In: 4\n",
        "Return: 24\n",
        "\n",
        "In: 10\n",
        "Return 3628800\n",
        "```"
      ]
    },
    {
      "cell_type": "code",
      "execution_count": 12,
      "metadata": {
        "id": "ZMyKjrEEcBc0"
      },
      "outputs": [],
      "source": [
        "def factorial(n):\n",
        "  if n== 0:\n",
        "    result = 1\n",
        "  else :\n",
        "    result= n\n",
        "    for i in range(1,n) :\n",
        "      result= result* i\n",
        "  return result"
      ]
    },
    {
      "cell_type": "code",
      "source": [
        "factorial(10)"
      ],
      "metadata": {
        "id": "2--Qs-TLdhgx",
        "outputId": "6ffbd4e8-901f-451b-c52b-4db7c8826c29",
        "colab": {
          "base_uri": "https://localhost:8080/"
        }
      },
      "execution_count": 14,
      "outputs": [
        {
          "output_type": "execute_result",
          "data": {
            "text/plain": [
              "3628800"
            ]
          },
          "metadata": {},
          "execution_count": 14
        }
      ]
    },
    {
      "cell_type": "code",
      "source": [
        "hello_world()"
      ],
      "metadata": {
        "id": "1qI6ljczdjiK",
        "outputId": "fced83a1-51d7-4391-a408-6a6c5eb6e741",
        "colab": {
          "base_uri": "https://localhost:8080/",
          "height": 35
        }
      },
      "execution_count": 18,
      "outputs": [
        {
          "output_type": "execute_result",
          "data": {
            "text/plain": [
              "'Hello, world!'"
            ],
            "application/vnd.google.colaboratory.intrinsic+json": {
              "type": "string"
            }
          },
          "metadata": {},
          "execution_count": 18
        }
      ]
    }
  ],
  "metadata": {
    "colab": {
      "name": "nb_gen.ipynb",
      "provenance": []
    },
    "kernelspec": {
      "display_name": "Python 3",
      "language": "python",
      "name": "python3"
    },
    "language_info": {
      "codemirror_mode": {
        "name": "ipython",
        "version": 3
      },
      "file_extension": ".py",
      "mimetype": "text/x-python",
      "name": "python",
      "nbconvert_exporter": "python",
      "pygments_lexer": "ipython3",
      "version": "3.7.3"
    }
  },
  "nbformat": 4,
  "nbformat_minor": 0
}